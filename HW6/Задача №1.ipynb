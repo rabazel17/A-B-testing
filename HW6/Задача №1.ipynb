{
  "cells": [
    {
      "cell_type": "markdown",
      "metadata": {},
      "source": [
        "Импортируем нужные библиотеки"
      ]
    },
    {
      "cell_type": "code",
      "execution_count": 2,
      "metadata": {
        "trusted": true
      },
      "outputs": [
        {
          "ename": "ModuleNotFoundError",
          "evalue": "No module named 'numpy.numpy'",
          "output_type": "error",
          "traceback": [
            "\u001b[1;31m---------------------------------------------------------------------------\u001b[0m",
            "\u001b[1;31mModuleNotFoundError\u001b[0m                       Traceback (most recent call last)",
            "Cell \u001b[1;32mIn[2], line 1\u001b[0m\n\u001b[1;32m----> 1\u001b[0m \u001b[38;5;28;01mfrom\u001b[39;00m \u001b[38;5;21;01mnumpy\u001b[39;00m\u001b[38;5;21;01m.\u001b[39;00m\u001b[38;5;21;01mnumpy\u001b[39;00m\u001b[38;5;21;01m.\u001b[39;00m\u001b[38;5;21;01mdual\u001b[39;00m \u001b[38;5;28;01mimport\u001b[39;00m eig\n",
            "\u001b[1;31mModuleNotFoundError\u001b[0m: No module named 'numpy.numpy'"
          ]
        }
      ],
      "source": [
        "from numpy.numpy.dual import eig"
      ]
    },
    {
      "cell_type": "markdown",
      "metadata": {},
      "source": [
        "Определяем необходимые параметры:"
      ]
    },
    {
      "cell_type": "code",
      "execution_count": 2,
      "metadata": {
        "trusted": true
      },
      "outputs": [],
      "source": [
        "n = 20000  # среднее количество юзеров в день\n",
        "sd = 156  # стандартная ошибка\n",
        "alpha = 0.05  # уровень значимости\n",
        "beta = 0.2  # вероятность ошибки второго рода\n",
        "prop_diff = 0.1  # относительное изменение таймспента"
      ]
    },
    {
      "cell_type": "markdown",
      "metadata": {},
      "source": [
        "Считаем необходимые статистические значения:"
      ]
    },
    {
      "cell_type": "code",
      "execution_count": 3,
      "metadata": {
        "trusted": true
      },
      "outputs": [],
      "source": [
        "se = sd / np.sqrt(n)  # стандартная ошибка среднего\n",
        "m = se * norm.ppf(1 - alpha/2)  # граница для доверительного интервала\n",
        "delta = prop_diff * n  # абсолютное изменение таймспента"
      ]
    },
    {
      "cell_type": "markdown",
      "metadata": {},
      "source": [
        "Определяем критические значения для тестов:"
      ]
    },
    {
      "cell_type": "code",
      "execution_count": 4,
      "metadata": {
        "trusted": true
      },
      "outputs": [],
      "source": [
        "z_alpha = norm.ppf(1 - alpha)  \n",
        "z_beta = norm.ppf(1 - beta) "
      ]
    },
    {
      "cell_type": "markdown",
      "metadata": {},
      "source": [
        "Определяем необходимое время эксперимента:"
      ]
    },
    {
      "cell_type": "code",
      "execution_count": 5,
      "metadata": {
        "trusted": true
      },
      "outputs": [],
      "source": [
        "n_1 = (z_alpha*m + z_beta*sd/delta)**2\n",
        "n_2 = (z_alpha*m - z_beta*sd/delta)**2\n",
        "n_round = np.ceil(max(n_1, n_2))\n",
        "days = np.ceil(n_round/n)  # количество дней"
      ]
    },
    {
      "cell_type": "markdown",
      "metadata": {},
      "source": [
        "Выводим результат:"
      ]
    },
    {
      "cell_type": "code",
      "execution_count": 7,
      "metadata": {
        "trusted": true
      },
      "outputs": [
        {
          "name": "stdout",
          "output_type": "stream",
          "text": [
            "Необходимо собрать данные в течении 1 дней\n"
          ]
        }
      ],
      "source": [
        "print(f\"Необходимо собрать данные в течении {int(days)} дней\")"
      ]
    }
  ],
  "metadata": {
    "kernelspec": {
      "display_name": "Python 3",
      "language": "python",
      "name": "python3"
    },
    "language_info": {
      "codemirror_mode": {
        "name": "python",
        "version": 3
      },
      "file_extension": ".py",
      "mimetype": "text/x-python",
      "name": "python",
      "nbconvert_exporter": "python",
      "pygments_lexer": "ipython3",
      "version": "3.11.2"
    }
  },
  "nbformat": 4,
  "nbformat_minor": 4
}
