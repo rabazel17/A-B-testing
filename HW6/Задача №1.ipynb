{
  "metadata": {
    "language_info": {
      "codemirror_mode": {
        "name": "python",
        "version": 3
      },
      "file_extension": ".py",
      "mimetype": "text/x-python",
      "name": "python",
      "nbconvert_exporter": "python",
      "pygments_lexer": "ipython3",
      "version": "3.8"
    },
    "kernelspec": {
      "name": "python",
      "display_name": "Python (Pyodide)",
      "language": "python"
    }
  },
  "nbformat_minor": 4,
  "nbformat": 4,
  "cells": [
    {
      "cell_type": "markdown",
      "source": "Импортируем нужные библиотеки",
      "metadata": {}
    },
    {
      "cell_type": "code",
      "source": "import numpy as np\nfrom scipy.stats import norm, t",
      "metadata": {
        "trusted": true
      },
      "execution_count": 1,
      "outputs": []
    },
    {
      "cell_type": "markdown",
      "source": "Определяем необходимые параметры:",
      "metadata": {}
    },
    {
      "cell_type": "code",
      "source": "n = 20000  # среднее количество юзеров в день\nsd = 156  # стандартная ошибка\nalpha = 0.05  # уровень значимости\nbeta = 0.2  # вероятность ошибки второго рода\nprop_diff = 0.1  # относительное изменение таймспента",
      "metadata": {
        "trusted": true
      },
      "execution_count": 2,
      "outputs": []
    },
    {
      "cell_type": "markdown",
      "source": "Считаем необходимые статистические значения:",
      "metadata": {}
    },
    {
      "cell_type": "code",
      "source": "se = sd / np.sqrt(n)  # стандартная ошибка среднего\nm = se * norm.ppf(1 - alpha/2)  # граница для доверительного интервала\ndelta = prop_diff * n  # абсолютное изменение таймспента",
      "metadata": {
        "trusted": true
      },
      "execution_count": 3,
      "outputs": []
    },
    {
      "cell_type": "markdown",
      "source": "Определяем критические значения для тестов:",
      "metadata": {}
    },
    {
      "cell_type": "code",
      "source": "z_alpha = norm.ppf(1 - alpha)  \nz_beta = norm.ppf(1 - beta) ",
      "metadata": {
        "trusted": true
      },
      "execution_count": 4,
      "outputs": []
    },
    {
      "cell_type": "markdown",
      "source": "Определяем необходимое время эксперимента:",
      "metadata": {}
    },
    {
      "cell_type": "code",
      "source": "n_1 = (z_alpha*m + z_beta*sd/delta)**2\nn_2 = (z_alpha*m - z_beta*sd/delta)**2\nn_round = np.ceil(max(n_1, n_2))\ndays = np.ceil(n_round/n)  # количество дней",
      "metadata": {
        "trusted": true
      },
      "execution_count": 5,
      "outputs": []
    },
    {
      "cell_type": "markdown",
      "source": "Выводим результат:",
      "metadata": {}
    },
    {
      "cell_type": "code",
      "source": "print(f\"Необходимо собрать данные в течении {int(days)} дней\")",
      "metadata": {
        "trusted": true
      },
      "execution_count": 7,
      "outputs": [
        {
          "name": "stdout",
          "text": "Необходимо собрать данные в течении 1 дней\n",
          "output_type": "stream"
        }
      ]
    }
  ]
}